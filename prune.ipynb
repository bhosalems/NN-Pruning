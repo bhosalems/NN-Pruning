{
 "cells": [
  {
   "cell_type": "code",
   "execution_count": 97,
   "metadata": {},
   "outputs": [],
   "source": [
    "import torch\n",
    "import torchvision\n",
    "import torchvision.transforms as transforms\n",
    "import numpy as np\n",
    "import matplotlib.pyplot as plt\n",
    "import torch.nn as nn\n",
    "import torch.nn.functional as F\n",
    "import torch.optim as optim\n",
    "import zipfile"
   ]
  },
  {
   "cell_type": "markdown",
   "metadata": {},
   "source": [
    "Let's define a model which would be trained for images in CIFAR10 dataset. Images have 3 channels, RGB."
   ]
  },
  {
   "cell_type": "code",
   "execution_count": 103,
   "metadata": {},
   "outputs": [],
   "source": [
    "class CNN(nn.Module):\n",
    "    def __init__(self):\n",
    "        super(CNN, self).__init__()\n",
    "        self.conv1 = nn.Conv2d(3, 128, 3)\n",
    "        self.pool = nn.MaxPool2d(2, 2)\n",
    "        self.conv2 = nn.Conv2d(128, 512, 3)\n",
    "        self.conv3 = nn.Conv2d(512, 1024, 3)\n",
    "        self.fc1 = nn.Linear(1024 * 2 * 2, 1024)\n",
    "        self.fc2 = nn.Linear(1024, 500)\n",
    "        self.fc3 = nn.Linear(500, 10)\n",
    "\n",
    "    def forward(self, x):\n",
    "        x = self.conv1(x)\n",
    "        x = F.relu(x)\n",
    "        x = self.pool(x)\n",
    "        x = self.conv2(x)\n",
    "        x = F.relu(x)\n",
    "        x = self.pool(x)\n",
    "        x = self.conv3(x)\n",
    "        x = F.relu(x)\n",
    "        x = self.pool(x)\n",
    "        x = x.view(-1, 1024 * 2 * 2)\n",
    "        x = F.relu(self.fc1(x))\n",
    "        x = F.relu(self.fc2(x))\n",
    "        x = self.fc3(x)\n",
    "        return x"
   ]
  },
  {
   "cell_type": "markdown",
   "metadata": {},
   "source": [
    "Below function downloads the data and devides it into train and test dataset."
   ]
  },
  {
   "cell_type": "code",
   "execution_count": 104,
   "metadata": {},
   "outputs": [],
   "source": [
    "def prepare_data(download, transform, batch_size, num_workers):\n",
    "    if transform:\n",
    "        trainset = torchvision.datasets.CIFAR10(root='./data', train=True, download=download, transform=transform)\n",
    "        testset = torchvision.datasets.CIFAR10(root='./data', train=False, download=download, transform=transform)\n",
    "    else:\n",
    "        trainset = torchvision.datasets.CIFAR10(root='./data', train=True, download=download)\n",
    "        testset = torchvision.datasets.CIFAR10(root='./data', train=False, download=download)\n",
    "    trainloader = torch.utils.data.DataLoader(trainset, batch_size=batch_size, shuffle=True, num_workers=num_workers)\n",
    "    testloader = torch.utils.data.DataLoader(testset, batch_size=batch_size, shuffle=False, num_workers=num_workers)\n",
    "    class_names = ('plane', 'car', 'bird', 'cat', 'deer', 'dog', 'frog', 'horse', 'ship', 'truck')\n",
    "    return trainloader, testloader, class_names"
   ]
  },
  {
   "cell_type": "markdown",
   "metadata": {},
   "source": [
    "Normalizing the inputs. Instantiating the CNN object for training. Defined SGD optimizer and cost function as cross entropy loss. Define the epochs for training."
   ]
  },
  {
   "cell_type": "code",
   "execution_count": 105,
   "metadata": {
    "scrolled": true
   },
   "outputs": [],
   "source": [
    "transform = transforms.Compose(\n",
    "    [transforms.ToTensor(),\n",
    "     transforms.Normalize((0.5, 0.5, 0.5), (0.5, 0.5, 0.5))])\n",
    "train_loader, test_loader, classes = prepare_data(download=False, transform=transform, batch_size=4, num_workers=2)\n",
    "device = torch.device(\"cuda:0\" if torch.cuda.is_available() else \"cpu\")\n",
    "net = CNN()\n",
    "net.to(device)\n",
    "criterion = nn.CrossEntropyLoss()\n",
    "optimizer = optim.SGD(net.parameters(), lr=0.001, momentum=0.9)\n",
    "epochs=2"
   ]
  },
  {
   "cell_type": "markdown",
   "metadata": {},
   "source": [
    "Train it for epochs and save the trained model for later use."
   ]
  },
  {
   "cell_type": "code",
   "execution_count": 107,
   "metadata": {},
   "outputs": [
    {
     "name": "stdout",
     "output_type": "stream",
     "text": [
      "[1,  2000] loss: 2.091\n",
      "[1,  4000] loss: 1.764\n",
      "[1,  6000] loss: 1.573\n",
      "[1,  8000] loss: 1.437\n",
      "[1, 10000] loss: 1.359\n",
      "[1, 12000] loss: 1.273\n",
      "[2,  2000] loss: 1.166\n",
      "[2,  4000] loss: 1.114\n",
      "[2,  6000] loss: 1.053\n",
      "[2,  8000] loss: 1.002\n",
      "[2, 10000] loss: 0.993\n",
      "[2, 12000] loss: 0.949\n",
      "Finished Training\n"
     ]
    }
   ],
   "source": [
    "for epoch in range(epochs):\n",
    "\n",
    "    running_loss = 0.0\n",
    "    for i, data in enumerate(train_loader, 0):\n",
    "\n",
    "        inputs, labels = data[0].to(device), data[1].to(device)\n",
    "        optimizer.zero_grad()\n",
    "        outputs = net(inputs)\n",
    "        loss = criterion(outputs, labels)\n",
    "        loss.backward()\n",
    "        optimizer.step()\n",
    "        running_loss += loss.item()\n",
    "        if i % 2000 == 1999:\n",
    "            print('[%d, %5d] loss: %.3f' %\n",
    "                  (epoch + 1, i + 1, running_loss / 2000))\n",
    "            running_loss = 0.0\n",
    "\n",
    "print('Finished Training')\n",
    "PATH = './cifar_net_'+str(epochs)+'.pth'\n",
    "torch.save(net.state_dict(), PATH)"
   ]
  },
  {
   "cell_type": "markdown",
   "metadata": {},
   "source": [
    "Load the saved model above."
   ]
  },
  {
   "cell_type": "code",
   "execution_count": 108,
   "metadata": {},
   "outputs": [
    {
     "data": {
      "text/plain": [
       "<All keys matched successfully>"
      ]
     },
     "execution_count": 108,
     "metadata": {},
     "output_type": "execute_result"
    }
   ],
   "source": [
    "net = CNN()\n",
    "net.load_state_dict(torch.load(PATH))"
   ]
  },
  {
   "cell_type": "markdown",
   "metadata": {},
   "source": [
    "Accuracy on the test data"
   ]
  },
  {
   "cell_type": "code",
   "execution_count": 109,
   "metadata": {},
   "outputs": [
    {
     "name": "stdout",
     "output_type": "stream",
     "text": [
      "Accuracy of the network on the 10000 test images: 68 %\n"
     ]
    }
   ],
   "source": [
    "correct = 0\n",
    "total = 0\n",
    "with torch.no_grad():\n",
    "    for data in test_loader:\n",
    "        inputs, labels = data[0].to(device), data[1].to(device)\n",
    "        outputs = net(inputs)\n",
    "        _, predicted = torch.max(outputs.data, 1)\n",
    "        total += labels.size(0)\n",
    "        correct += (predicted == labels).sum().item()\n",
    "\n",
    "print('Accuracy of the network on the 10000 test images: %d %%' % (\n",
    "        100 * correct / total))"
   ]
  },
  {
   "cell_type": "markdown",
   "metadata": {},
   "source": [
    "Prune the conv1 layer with unstructured l1 pruning."
   ]
  },
  {
   "cell_type": "code",
   "execution_count": 111,
   "metadata": {},
   "outputs": [],
   "source": [
    "sparsity = [0.1, 0.3, 0.5, 0.6, 0.7, 0.9]\n",
    "module = net.conv1\n",
    "for s in sparsity:\n",
    "    prune.l1_unstructured(module, name='weight', amount=s)\n",
    "    prune.remove(module, 'weight')\n",
    "    PATH = f'./cifar_net_conv1p_{s}.pth'\n",
    "    torch.save(net.state_dict(), PATH)\n",
    "    with ZipFile(f'pruned_conv1_{s}.zip', 'w', compression=zipfile.ZIP_DEFLATED) as z:\n",
    "        z.write(PATH)"
   ]
  },
  {
   "cell_type": "code",
   "execution_count": 112,
   "metadata": {},
   "outputs": [
    {
     "data": {
      "text/plain": [
       "<All keys matched successfully>"
      ]
     },
     "execution_count": 112,
     "metadata": {},
     "output_type": "execute_result"
    }
   ],
   "source": [
    "PATH = './cifar_net_'+str(epochs)+'.pth'\n",
    "net = CNN()\n",
    "net.load_state_dict(torch.load(PATH))"
   ]
  },
  {
   "cell_type": "markdown",
   "metadata": {},
   "source": [
    "Prune the fc2 layer with unstructured l1 pruning."
   ]
  },
  {
   "cell_type": "code",
   "execution_count": 114,
   "metadata": {},
   "outputs": [],
   "source": [
    "sparsity = [0.1, 0.3, 0.5, 0.6, 0.7, 0.9]\n",
    "module = net.fc2\n",
    "for s in sparsity:\n",
    "    prune.l1_unstructured(module, name='weight', amount=s)\n",
    "    prune.remove(module, 'weight')\n",
    "    PATH = f'./cifar_net_fc2p_{s}.pth'\n",
    "    torch.save(net.state_dict(), PATH)\n",
    "    with ZipFile(f'pruned_fc2_{s}.zip', 'w', compression=zipfile.ZIP_DEFLATED) as z:\n",
    "        z.write(PATH)"
   ]
  },
  {
   "cell_type": "code",
   "execution_count": 115,
   "metadata": {},
   "outputs": [
    {
     "data": {
      "text/plain": [
       "<All keys matched successfully>"
      ]
     },
     "execution_count": 115,
     "metadata": {},
     "output_type": "execute_result"
    }
   ],
   "source": [
    "PATH = './cifar_net_'+str(epochs)+'.pth'\n",
    "net = CNN()\n",
    "net.load_state_dict(torch.load(PATH))"
   ]
  },
  {
   "cell_type": "markdown",
   "metadata": {},
   "source": [
    "Prune all the layers with unstructured l1 pruning."
   ]
  },
  {
   "cell_type": "code",
   "execution_count": 117,
   "metadata": {},
   "outputs": [],
   "source": [
    "sparsity = [0.1, 0.3, 0.5, 0.6, 0.7, 0.9]\n",
    "for s in sparsity:\n",
    "    for name, module in net.named_modules():\n",
    "        if isinstance(module, torch.nn.Conv2d):\n",
    "            prune.l1_unstructured(module, name='weight', amount=s)\n",
    "        elif isinstance(module, torch.nn.Linear):\n",
    "            prune.l1_unstructured(module, name='weight', amount=s)\n",
    "    for name, module in net.named_modules():\n",
    "        if isinstance(module, torch.nn.Conv2d) or isinstance(module, torch.nn.Linear):\n",
    "            prune.remove(module, 'weight')\n",
    "    PATH = f'./cifar_net_allp_{s}.pth'\n",
    "    torch.save(net.state_dict(), PATH)\n",
    "    with ZipFile(f'pruned_all_{s}.zip', 'w', compression=zipfile.ZIP_DEFLATED) as z:\n",
    "        z.write(PATH)"
   ]
  },
  {
   "cell_type": "markdown",
   "metadata": {},
   "source": [
    "Let's check the effect on the size of the saved networks in compressed formats"
   ]
  },
  {
   "cell_type": "code",
   "execution_count": 125,
   "metadata": {},
   "outputs": [
    {
     "data": {
      "image/png": "[encoded data removed]",
      "text/plain": [
       "<Figure size 432x288 with 1 Axes>"
      ]
     },
     "metadata": {
      "needs_background": "light"
     },
     "output_type": "display_data"
    }
   ],
   "source": [
    "conv1_pruned_siz = []\n",
    "fc2_pruned_siz = []\n",
    "all_pruned_siz = []\n",
    "for s in sparsity:\n",
    "    PATH = f'pruned_conv1_{s}.zip'\n",
    "    stats = os.stat(PATH)\n",
    "    conv1_pruned_siz.append(stats.st_size/1024)\n",
    "    PATH = f'pruned_fc2_{s}.zip'\n",
    "    stats = os.stat(PATH)\n",
    "    fc2_pruned_siz.append(stats.st_size/1024)\n",
    "    PATH = f'pruned_all_{s}.zip'\n",
    "    stats = os.stat(PATH)\n",
    "    all_pruned_siz.append(stats.st_size/1024)\n",
    "fig = plt.figure()\n",
    "ax1 = fig.add_subplot(xlabel='sparsity', ylabel='sizes in multiple of 1024 bytes')\n",
    "ax1.plot(sparsity, conv1_pruned_siz, c='b', label='conv2 pruning')\n",
    "ax1.plot(sparsity, fc2_pruned_siz, c='r', label='fc2 pruning')\n",
    "ax1.plot(sparsity, all_pruned_siz, c='g', label='all pruning')\n",
    "plt.legend(loc='lower left');\n",
    "plt.show()"
   ]
  },
  {
   "cell_type": "markdown",
   "metadata": {},
   "source": [
    "And the original size of the NN without pruning is"
   ]
  },
  {
   "cell_type": "code",
   "execution_count": 130,
   "metadata": {},
   "outputs": [
    {
     "name": "stdout",
     "output_type": "stream",
     "text": [
      "Compressed size of the unpruned NN in multiple of 1024 bytes is 36204.93359375\n"
     ]
    }
   ],
   "source": [
    "PATH = './cifar_net_'+str(epochs)+'.pth'\n",
    "with ZipFile(f'{PATH}.zip', 'w', compression=zipfile.ZIP_DEFLATED) as z:\n",
    "        z.write(PATH)\n",
    "PATH = f'{PATH}.zip'\n",
    "print(f'Compressed size of the unpruned NN in multiple of 1024 bytes is {(os.stat(PATH).st_size/1024)}')"
   ]
  },
  {
   "cell_type": "markdown",
   "metadata": {},
   "source": [
    "Pruned NN's sizes with different parts pruned to different extent"
   ]
  },
  {
   "cell_type": "code",
   "execution_count": 144,
   "metadata": {},
   "outputs": [
    {
     "name": "stdout",
     "output_type": "stream",
     "text": [
      "Size of compressed conv1 10.0% sparsed network in multiple of 1024 bytes is 36199.15234375\n",
      "Size of compressed fc2 10.0% sparsed network in multiple of 1024 bytes is 36092.18359375\n",
      "Size of compressed all 10.0% sparsed network in multiple of 1024 bytes is 33953.4580078125\n",
      "Size of compressed conv1 30.0% sparsed network in multiple of 1024 bytes is 36199.1533203125\n",
      "Size of compressed fc2 30.0% sparsed network in multiple of 1024 bytes is 35797.5654296875\n",
      "Size of compressed all 30.0% sparsed network in multiple of 1024 bytes is 28274.7353515625\n",
      "Size of compressed conv1 50.0% sparsed network in multiple of 1024 bytes is 36199.15234375\n",
      "Size of compressed fc2 50.0% sparsed network in multiple of 1024 bytes is 35478.5869140625\n",
      "Size of compressed all 50.0% sparsed network in multiple of 1024 bytes is 21730.3271484375\n",
      "Size of compressed conv1 60.0% sparsed network in multiple of 1024 bytes is 36199.169921875\n",
      "Size of compressed fc2 60.0% sparsed network in multiple of 1024 bytes is 35310.8251953125\n",
      "Size of compressed all 60.0% sparsed network in multiple of 1024 bytes is 18421.533203125\n",
      "Size of compressed conv1 70.0% sparsed network in multiple of 1024 bytes is 36197.966796875\n",
      "Size of compressed fc2 70.0% sparsed network in multiple of 1024 bytes is 35132.701171875\n",
      "Size of compressed all 70.0% sparsed network in multiple of 1024 bytes is 14971.3662109375\n",
      "Size of compressed conv1 90.0% sparsed network in multiple of 1024 bytes is 36195.2861328125\n",
      "Size of compressed fc2 90.0% sparsed network in multiple of 1024 bytes is 34744.4130859375\n",
      "Size of compressed all 90.0% sparsed network in multiple of 1024 bytes is 7390.8291015625\n"
     ]
    }
   ],
   "source": [
    "for i in range(len(sparsity)):\n",
    "    print(f'Size of compressed conv1 {sparsity[i]*100}% sparsed network in multiple of 1024 bytes is {conv1_pruned_siz[i]}')\n",
    "    print(f'Size of compressed fc2 {sparsity[i]*100}% sparsed network in multiple of 1024 bytes is {fc2_pruned_siz[i]}')\n",
    "    print(f'Size of compressed all {sparsity[i]*100}% sparsed network in multiple of 1024 bytes is {all_pruned_siz[i]}')"
   ]
  },
  {
   "cell_type": "markdown",
   "metadata": {},
   "source": [
    "So it can be seen that with increase in sparsity we see reduced model size, also for any amount of pruning we see that what is being pruned also matters and compression follows the order all > fc2 > conv1. It is expected when all the layers are pruned but interestingly fc2 gives greater compression than conv1 layer. Oh! it could be because conv1 does not have that much parameters to start with"
   ]
  },
  {
   "cell_type": "code",
   "execution_count": 146,
   "metadata": {},
   "outputs": [],
   "source": [
    "import time"
   ]
  },
  {
   "cell_type": "markdown",
   "metadata": {},
   "source": [
    "Let's check the effect of pruning on accuracy. But let's load the pruned models."
   ]
  },
  {
   "cell_type": "code",
   "execution_count": 149,
   "metadata": {},
   "outputs": [],
   "source": [
    "conv1_pruned_nets = []\n",
    "fc2_pruned_nets = []\n",
    "all_pruned_nets = []\n",
    "for s in sparsity:\n",
    "    net = CNN()\n",
    "    PATH = f'./cifar_net_conv1p_{s}.pth'\n",
    "    net.load_state_dict(torch.load(PATH))\n",
    "    conv1_pruned_nets.append(net)\n",
    "    net = CNN()\n",
    "    PATH = f'./cifar_net_fc2p_{s}.pth'\n",
    "    net.load_state_dict(torch.load(PATH))\n",
    "    fc2_pruned_nets.append(net)\n",
    "    net = CNN()\n",
    "    PATH = f'./cifar_net_allp_{s}.pth'\n",
    "    net.load_state_dict(torch.load(PATH))\n",
    "    all_pruned_nets.append(net)"
   ]
  },
  {
   "cell_type": "code",
   "execution_count": 157,
   "metadata": {},
   "outputs": [
    {
     "name": "stdout",
     "output_type": "stream",
     "text": [
      "Calculating accuracy for Sparsity 0.1\n",
      "Calculating accuracy for Sparsity 0.3\n",
      "Calculating accuracy for Sparsity 0.5\n",
      "Calculating accuracy for Sparsity 0.6\n",
      "Calculating accuracy for Sparsity 0.7\n",
      "Calculating accuracy for Sparsity 0.9\n"
     ]
    }
   ],
   "source": [
    "conv1_pruned_accr = []\n",
    "fc2_pruned_accr = []\n",
    "all_pruned_accr = []\n",
    "conv1_pruned_t = []\n",
    "fc2_pruned_t = []\n",
    "all_pruned_t = []\n",
    "\n",
    "for i in range(len(sparsity)):\n",
    "    print(f'Calculating accuracy for Sparsity {sparsity[i]}')\n",
    "    cnv1_correct = 0\n",
    "    cnv1_total = 0\n",
    "    fc2_correct = 0\n",
    "    fc2_total = 0\n",
    "    all_correct = 0\n",
    "    all_total = 0\n",
    "    conv1_t_tot = 0\n",
    "    fc2_t_tot = 0\n",
    "    all_t_tot = 0\n",
    "    with torch.no_grad():\n",
    "        for data in test_loader:\n",
    "            inputs, labels = data[0].to(device), data[1].to(device)\n",
    "            \n",
    "            start = time.time()\n",
    "            outputs = conv1_pruned_nets[i](inputs)\n",
    "            conv1_t_tot += (time.time() - start)\n",
    "            _, predicted = torch.max(outputs.data, 1)\n",
    "            cnv1_total += labels.size(0)\n",
    "            cnv1_correct += (predicted == labels).sum().item()\n",
    "            \n",
    "            start = time.time()\n",
    "            outputs = fc2_pruned_nets[i](inputs)\n",
    "            fc2_t_tot += (time.time() - start)\n",
    "            _, predicted = torch.max(outputs.data, 1)\n",
    "            fc2_total += labels.size(0)\n",
    "            fc2_correct += (predicted == labels).sum().item()\n",
    "            \n",
    "            start = time.time()\n",
    "            outputs = all_pruned_nets[i](inputs)\n",
    "            all_t_tot += (time.time() - start)\n",
    "            _, predicted = torch.max(outputs.data, 1)\n",
    "            all_total += labels.size(0)\n",
    "            all_correct += (predicted == labels).sum().item()\n",
    "\n",
    "    conv1_pruned_accr.append(100 * cnv1_correct / cnv1_total)\n",
    "    fc2_pruned_accr.append(100 * fc2_correct / fc2_total)\n",
    "    all_pruned_accr.append(100 * all_correct / all_total)\n",
    "    conv1_pruned_t.append(conv1_t_tot)\n",
    "    fc2_pruned_t.append(fc2_t_tot)\n",
    "    all_pruned_t.append(all_t_tot)"
   ]
  },
  {
   "cell_type": "markdown",
   "metadata": {},
   "source": [
    "Let's check the effect on the accuracy"
   ]
  },
  {
   "cell_type": "code",
   "execution_count": 161,
   "metadata": {},
   "outputs": [
    {
     "data": {
      "image/png": "[encoded data removed]",
      "text/plain": [
       "<Figure size 432x288 with 1 Axes>"
      ]
     },
     "metadata": {
      "needs_background": "light"
     },
     "output_type": "display_data"
    }
   ],
   "source": [
    "fig = plt.figure()\n",
    "ax1 = fig.add_subplot(xlabel='sparsity', ylabel='% accuracy')\n",
    "ax1.plot(sparsity, conv1_pruned_accr, c='b', label='conv2 pruning')\n",
    "ax1.plot(sparsity, fc2_pruned_accr, c='r', label='fc2 pruning')\n",
    "ax1.plot(sparsity, all_pruned_accr, c='g', label='all pruning')\n",
    "plt.legend(loc='lower left');\n",
    "plt.show()"
   ]
  },
  {
   "cell_type": "code",
   "execution_count": 164,
   "metadata": {},
   "outputs": [
    {
     "name": "stdout",
     "output_type": "stream",
     "text": [
      "[57.74, 57.74, 57.74, 57.74, 48.65, 22.9]\n",
      "[68.07, 68.21, 68.16, 68.1, 68.13, 67.77]\n",
      "[67.98, 67.46, 63.14, 54.83, 40.17, 11.39]\n"
     ]
    }
   ],
   "source": [
    "print(conv1_pruned_accr)\n",
    "print(fc2_pruned_accr)\n",
    "print(all_pruned_accr)"
   ]
  },
  {
   "cell_type": "markdown",
   "metadata": {},
   "source": [
    "So accuracy decreases with increase in sparsity which is expected. But interestingly, for the amount of compression achieved by fc2 pruning, there is not much loss in the accuracy. Where as, conv1 does least compression with increase in sparsity, but still accuracy is least."
   ]
  },
  {
   "cell_type": "markdown",
   "metadata": {},
   "source": [
    "Let's check the effect on performance.I have assumed prediction time as performance. "
   ]
  },
  {
   "cell_type": "code",
   "execution_count": 166,
   "metadata": {},
   "outputs": [
    {
     "data": {
      "image/png": "[encoded data removed]",
      "text/plain": [
       "<Figure size 432x288 with 1 Axes>"
      ]
     },
     "metadata": {
      "needs_background": "light"
     },
     "output_type": "display_data"
    }
   ],
   "source": [
    "fig = plt.figure()\n",
    "ax1 = fig.add_subplot(xlabel='sparsity', ylabel='time in seconds')\n",
    "ax1.plot(sparsity, conv1_pruned_t, c='b', label='conv2 pruning')\n",
    "ax1.plot(sparsity, fc2_pruned_t, c='r', label='fc2 pruning')\n",
    "ax1.plot(sparsity, all_pruned_t, c='g', label='all pruning')\n",
    "plt.legend(loc='upper left');\n",
    "plt.show()"
   ]
  },
  {
   "cell_type": "markdown",
   "metadata": {},
   "source": [
    "Actually, I think it would make more sense to check the performance if it would have been structured pruning, as it gurantees removal of some type of parts of NN as compared to unstructured pruning which zeroes out the weights mostly."
   ]
  }
 ],
 "metadata": {
  "kernelspec": {
   "display_name": "Python 3",
   "language": "python",
   "name": "python3"
  },
  "language_info": {
   "codemirror_mode": {
    "name": "ipython",
    "version": 3
   },
   "file_extension": ".py",
   "mimetype": "text/x-python",
   "name": "python",
   "nbconvert_exporter": "python",
   "pygments_lexer": "ipython3",
   "version": "3.6.12"
  }
 },
 "nbformat": 4,
 "nbformat_minor": 2
}
